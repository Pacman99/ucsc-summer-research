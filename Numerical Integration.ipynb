{
 "cells": [
  {
   "cell_type": "markdown",
   "id": "fadc3172-0997-4286-b31f-c66a7a726cc1",
   "metadata": {},
   "source": [
    "# Trapezoid Rule\n",
    "This implementation focuses on demonstrating the mechanism rather than efficiency. To that end only the formula of a single trapezoid is used instead of the formula for the area of all trapezoids. For each $\\Delta x$ interval the area of the trapezoid formed is computed then all areas are summed."
   ]
  },
  {
   "cell_type": "code",
   "execution_count": 2,
   "id": "9cd6f816-eb1c-42e5-a514-536d1b1c58a7",
   "metadata": {},
   "outputs": [],
   "source": [
    "def trapezoid_rule(f, a, b, N):\n",
    "    delta_x = (b-a)/N\n",
    "    chunks = []\n",
    "    for i in range(N):\n",
    "        x0 = a + i*delta_x\n",
    "        x1 = a + (i+1)*delta_x\n",
    "        chunks.append((1/2) * delta_x * (f(x0) + f(x1)))\n",
    "    return sum(chunks)"
   ]
  },
  {
   "cell_type": "markdown",
   "id": "b6290ffe-2ab4-4791-a128-3c86f0612cec",
   "metadata": {},
   "source": [
    "# Simpsons rule\n",
    "Similarly here only the formula for the area under the quadratic interpolation of a pair of intervals is used rather than the overall formula. "
   ]
  },
  {
   "cell_type": "code",
   "execution_count": 16,
   "id": "c86ff370-e812-4548-bd35-22be89bf72f3",
   "metadata": {},
   "outputs": [],
   "source": [
    "def simpsons_rule(f, a, b, N):\n",
    "    if N%2 != 0:\n",
    "        raise ValueError('N needs to be even')\n",
    "    delta_x = (b-a)/N\n",
    "    chunks = []\n",
    "    for i in range(0, N, 2): # increment by 2 to run interpolation on each pair of delta x's\n",
    "        x0 = a+i*delta_x\n",
    "        x1 = a + (i+1)*delta_x\n",
    "        x2 = a + (i+2)*delta_x\n",
    "        chunks.append((1/3)*delta_x*(f(x0)+4*f(x1)+f(x0)))\n",
    "    return sum(chunks)"
   ]
  },
  {
   "cell_type": "code",
   "execution_count": 24,
   "id": "493c49ae-ca45-418b-8d68-174a48b5427e",
   "metadata": {},
   "outputs": [
    {
     "name": "stdout",
     "output_type": "stream",
     "text": [
      "trapezoid_rule: 1.999959\n",
      "simpsons_rule: 2.000000\n"
     ]
    }
   ],
   "source": [
    "f(x)=(sin(x))\n",
    "R = RealField(25)\n",
    "N=200\n",
    "a = 0\n",
    "b = pi\n",
    "\n",
    "T = trapezoid_rule(f,a,b,N)\n",
    "S = simpsons_rule(f,a,b,N)\n",
    "\n",
    "print(\"trapezoid_rule: \" + str(R(T)))\n",
    "print(\"simpsons_rule: \" + str(R(S)))"
   ]
  },
  {
   "cell_type": "code",
   "execution_count": null,
   "id": "07553278-ee2f-425a-b889-a683c03c28fe",
   "metadata": {},
   "outputs": [],
   "source": []
  },
  {
   "cell_type": "code",
   "execution_count": null,
   "id": "6c539f5b-14e2-417a-bd39-8482781d5641",
   "metadata": {},
   "outputs": [],
   "source": []
  }
 ],
 "metadata": {
  "kernelspec": {
   "display_name": "SageMath 10.3",
   "language": "sage",
   "name": "sagemath"
  },
  "language_info": {
   "codemirror_mode": {
    "name": "ipython",
    "version": 3
   },
   "file_extension": ".py",
   "mimetype": "text/x-python",
   "name": "python",
   "nbconvert_exporter": "python",
   "pygments_lexer": "ipython3",
   "version": "3.11.9"
  }
 },
 "nbformat": 4,
 "nbformat_minor": 5
}
